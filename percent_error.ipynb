{
 "cells": [
  {
   "cell_type": "code",
   "execution_count": null,
   "metadata": {},
   "outputs": [],
   "source": [
    "n=int(input(\"Amount of Mesurements\"))\n",
    "teorico=[*range(0,n+1)]\n",
    "exp=[*range(0,n+1,1)]\n",
    "erro=[*range(0,n+1,1)]\n",
    "for i in range (n):\n",
    "    teorico[i] = float(input(\"Theoric Values\"))\n",
    "for i in range (n):\n",
    "    exp[i] = float(input(\"Experimental Values\"))\n",
    "if len(exp)==len(teorico):\n",
    "    for i in range (n):\n",
    "        erro[i]= (exp[i]-teorico[i])*100/teorico[i]\n",
    "        print(\"Percentual Error {} = {}%\\n\".format(i+1,erro[i]))\n",
    "else:\n",
    "    print(\"Invalid amount of mesures, try again\")"
   ]
  }
 ],
 "metadata": {
  "kernelspec": {
   "display_name": "Python 3",
   "language": "python",
   "name": "python3"
  },
  "language_info": {
   "codemirror_mode": {
    "name": "ipython",
    "version": 3
   },
   "file_extension": ".py",
   "mimetype": "text/x-python",
   "name": "python",
   "nbconvert_exporter": "python",
   "pygments_lexer": "ipython3",
   "version": "3.11.9"
  }
 },
 "nbformat": 4,
 "nbformat_minor": 2
}
